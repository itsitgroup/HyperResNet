{
  "nbformat": 4,
  "nbformat_minor": 0,
  "metadata": {
    "colab": {
      "provenance": [],
      "machine_shape": "hm",
      "gpuType": "L4"
    },
    "kernelspec": {
      "name": "python3",
      "display_name": "Python 3"
    },
    "language_info": {
      "name": "python"
    },
    "accelerator": "GPU"
  },
  "cells": [
    {
      "cell_type": "markdown",
      "source": [
        "# HyperResNet: SuperResolution Using Machine Learning\n",
        "\n",
        "This notebook allows you to run the HyperResNet model from the `itsitgroup/HyperResNet` GitHub repository. You can input parameters through the UI.\n"
      ],
      "metadata": {
        "id": "ck-wINo-TOm6"
      }
    },
    {
      "cell_type": "markdown",
      "source": [
        "## Setup"
      ],
      "metadata": {
        "id": "qe3QR5C1S0og"
      }
    },
    {
      "cell_type": "markdown",
      "source": [
        "### Clone the Repository"
      ],
      "metadata": {
        "id": "4kCX3lD9TsKN"
      }
    },
    {
      "cell_type": "code",
      "source": [
        "#@title Clone the GitHub repository {display-mode: \"form\"}\n",
        "!git clone https://github.com/itsitgroup/HyperResNet.git\n",
        "%cd HyperResNet"
      ],
      "metadata": {
        "id": "_pGsXxnVTvMP"
      },
      "execution_count": null,
      "outputs": []
    },
    {
      "cell_type": "markdown",
      "source": [
        "### Install Dependencies"
      ],
      "metadata": {
        "id": "YX8cdNHAT4vy"
      }
    },
    {
      "cell_type": "code",
      "source": [
        "#@title Install required dependencies {display-mode: \"form\"}\n",
        "!pip install -r requirements.txt"
      ],
      "metadata": {
        "id": "mhrwzsjFT5Vu"
      },
      "execution_count": null,
      "outputs": []
    },
    {
      "cell_type": "markdown",
      "source": [
        "### Input Parameters\n",
        "\n",
        "Use the form below to input the parameters for the model training and evaluation."
      ],
      "metadata": {
        "id": "HeMAX9KhUBr-"
      }
    },
    {
      "cell_type": "code",
      "source": [
        "#@title Input Parameters {display-mode: \"form\"}\n",
        "\n",
        "model_path = \"my_model.h5\" #@param {type:\"string\"}\n",
        "batch_size = 32 #@param {type:\"integer\"}\n",
        "epochs = 10 #@param {type:\"integer\"}\n",
        "learning_rate = 0.0001 #@param {type:\"number\"}\n",
        "filters = 64 #@param {type:\"integer\"}\n",
        "blocks = 3 #@param {type:\"integer\"}\n",
        "save_every = 0 #@param {type:\"integer\"}\n",
        "\n",
        "# Create a dictionary to store the parameters\n",
        "params = {\n",
        "    \"model_path\": model_path,\n",
        "    \"batch_size\": batch_size,\n",
        "    \"epochs\": epochs,\n",
        "    \"learning_rate\": learning_rate,\n",
        "    \"filters\": filters,\n",
        "    \"blocks\": blocks,\n",
        "    \"save_every\": save_every\n",
        "}"
      ],
      "metadata": {
        "id": "m1PgHXgGUDUb"
      },
      "execution_count": null,
      "outputs": []
    },
    {
      "cell_type": "markdown",
      "source": [
        "### Run the Script"
      ],
      "metadata": {
        "id": "2lSQ2inEUKlO"
      }
    },
    {
      "cell_type": "code",
      "source": [
        "#@title Run the HyperResNet script {display-mode: \"form\"}\n",
        "\n",
        "import os\n",
        "\n",
        "# Ensure the save_path directory exists\n",
        "save_path = 'plots'\n",
        "if not os.path.exists(save_path):\n",
        "    os.makedirs(save_path)\n",
        "\n",
        "# Construct the command to run the script with the user-defined parameters\n",
        "command = (\n",
        "    f\"python main.py --model_path {params['model_path']} \"\n",
        "    f\"--batch_size {params['batch_size']} \"\n",
        "    f\"--epochs {params['epochs']} \"\n",
        "    f\"--learning_rate {params['learning_rate']} \"\n",
        "    f\"--filters {params['filters']} \"\n",
        "    f\"--blocks {params['blocks']} \"\n",
        "    f\"--save_every {params['save_every']}\"\n",
        ")\n",
        "\n",
        "# Run the command\n",
        "os.system(command)"
      ],
      "metadata": {
        "id": "Hi0TZP_TUKPf"
      },
      "execution_count": null,
      "outputs": []
    },
    {
      "cell_type": "markdown",
      "source": [
        "### Display Results"
      ],
      "metadata": {
        "id": "Ij2OZcOoUP6Q"
      }
    },
    {
      "cell_type": "code",
      "source": [
        "#@title Display Results {display-mode: \"form\"}\n",
        "\n",
        "import matplotlib.pyplot as plt\n",
        "import os\n",
        "\n",
        "# Define the paths to the saved plots\n",
        "loss_plot_path = os.path.join(save_path, 'loss.png')\n",
        "accuracy_plot_path = os.path.join(save_path, 'accuracy.png')\n",
        "predictions_plot_path = os.path.join(save_path, 'predictions.png')\n",
        "\n",
        "# Display the loss plot\n",
        "if os.path.exists(loss_plot_path):\n",
        "    img = plt.imread(loss_plot_path)\n",
        "    plt.figure(figsize=(10, 5))\n",
        "    plt.imshow(img)\n",
        "    plt.axis('off')\n",
        "    plt.title('Loss Plot')\n",
        "    plt.show()\n",
        "\n",
        "# Display the accuracy plot\n",
        "if os.path.exists(accuracy_plot_path):\n",
        "    img = plt.imread(accuracy_plot_path)\n",
        "    plt.figure(figsize=(10, 5))\n",
        "    plt.imshow(img)\n",
        "    plt.axis('off')\n",
        "    plt.title('Accuracy Plot')\n",
        "    plt.show()\n",
        "\n",
        "# Display the predictions plot\n",
        "if os.path.exists(predictions_plot_path):\n",
        "    img = plt.imread(predictions_plot_path)\n",
        "    plt.figure(figsize=(10, 5))\n",
        "    plt.imshow(img)\n",
        "    plt.axis('off')\n",
        "    plt.title('Predictions Plot')\n",
        "    plt.show()"
      ],
      "metadata": {
        "id": "adH4_GNGUQie"
      },
      "execution_count": null,
      "outputs": []
    },
    {
      "cell_type": "code",
      "source": [],
      "metadata": {
        "id": "Tsgn9mTgUWo9"
      },
      "execution_count": null,
      "outputs": []
    }
  ]
}